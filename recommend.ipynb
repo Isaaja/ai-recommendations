{
 "cells": [
  {
   "cell_type": "markdown",
   "metadata": {},
   "source": [
    "## Fetching API"
   ]
  },
  {
   "cell_type": "markdown",
   "metadata": {},
   "source": [
    "## Percobaan Fetching 1 pages\n"
   ]
  },
  {
   "cell_type": "code",
   "execution_count": 6,
   "metadata": {},
   "outputs": [
    {
     "name": "stdout",
     "output_type": "stream",
     "text": [
      "Data berhasil disimpan ke movie_data.csv!\n"
     ]
    }
   ],
   "source": [
    "import requests\n",
    "import csv\n",
    "\n",
    "def fetch_movie_data_csv():\n",
    "    page = 1\n",
    "    all_movie = []\n",
    "\n",
    "    url = f\"https://api.themoviedb.org/3/movie/popular?api_key=c5ddc71e3a32f3641f3d21d493f8906b&language=ID&page={page}\"\n",
    "    response = requests.get(url)\n",
    "    \n",
    "    # Periksa apakah respons sukses (kode 200)\n",
    "    if response.status_code != 200:\n",
    "        print(f\"Error: Gagal mengambil data di halaman {page}, status code: {response.status_code}\")\n",
    "        return\n",
    "    \n",
    "    try:\n",
    "        result = response.json()\n",
    "        \n",
    "        # Pastikan kunci 'results' ada\n",
    "        if \"results\" not in result:\n",
    "            print(f\"Error: Respons di halaman {page} tidak memiliki kunci 'results'\")\n",
    "            return\n",
    "\n",
    "        for movie in result['results']:\n",
    "            all_movie.append([\n",
    "                movie[\"id\"],\n",
    "                movie[\"original_title\"],\n",
    "                \", \".join(str(genre_id) for genre_id in movie.get(\"genre_ids\", [])),\n",
    "                movie.get(\"vote_average\", \"N/A\"),\n",
    "            ])\n",
    "    \n",
    "    except requests.exceptions.JSONDecodeError:\n",
    "        print(f\"Error: Gagal mengurai JSON di halaman {page}\")\n",
    "        return\n",
    "\n",
    "    # Simpan ke file CSV jika ada data\n",
    "    if all_movie:\n",
    "        with open(\"movie_data.csv\", \"w\", encoding=\"utf-8\", newline=\"\") as f:\n",
    "            writer = csv.writer(f)\n",
    "            writer.writerow([\"id\", \"original_title\", \"genres_id\", \"vote_average\"])\n",
    "            writer.writerows(all_movie)\n",
    "        print(\"Data berhasil disimpan ke movie_data.csv!\")\n",
    "    else:\n",
    "        print(\"Tidak ada data yang disimpan.\")\n",
    "\n",
    "fetch_movie_data_csv()\n"
   ]
  },
  {
   "cell_type": "markdown",
   "metadata": {},
   "source": [
    "## Fetching All Pages"
   ]
  },
  {
   "cell_type": "code",
   "execution_count": 12,
   "metadata": {},
   "outputs": [
    {
     "name": "stdout",
     "output_type": "stream",
     "text": [
      "Error: Gagal mengambil data di halaman 501, status code: 400\n",
      "Data berhasil disimpan ke movie_data.csv!\n"
     ]
    }
   ],
   "source": [
    "import requests\n",
    "import csv\n",
    "import time\n",
    "\n",
    "def fetch_movie_data_csv():\n",
    "    page = 1\n",
    "    all_movie = []\n",
    "    has_next_page = True\n",
    "\n",
    "    while has_next_page:\n",
    "        url = f\"https://api.themoviedb.org/3/movie/popular?api_key=c5ddc71e3a32f3641f3d21d493f8906b&language=ID&page={page}\"\n",
    "        response = requests.get(url)\n",
    "        \n",
    "        if response.status_code != 200:\n",
    "            print(f\"Error: Gagal mengambil data di halaman {page}, status code: {response.status_code}\")\n",
    "            break\n",
    "        \n",
    "        try:\n",
    "            result = response.json()\n",
    "            \n",
    "            if \"results\" not in result:\n",
    "                print(f\"Error: Respons di halaman {page} tidak memiliki kunci 'results'\")\n",
    "                break\n",
    "\n",
    "            for movie in result['results']:\n",
    "                all_movie.append([\n",
    "                    movie[\"id\"],\n",
    "                    movie[\"original_title\"],\n",
    "                    \", \".join(str(genre_id) for genre_id in movie.get(\"genre_ids\", [])),\n",
    "                    movie.get(\"vote_average\", \"N/A\"),\n",
    "                ])\n",
    "\n",
    "            total_pages = result.get(\"total_pages\", 1)\n",
    "            if page >= total_pages:\n",
    "                has_next_page = False\n",
    "            else:\n",
    "                page += 1\n",
    "        \n",
    "        except requests.exceptions.JSONDecodeError:\n",
    "            print(f\"Error: Gagal mengurai JSON di halaman {page}\")\n",
    "            break\n",
    "        \n",
    "        time.sleep(1)\n",
    "\n",
    "    if all_movie:\n",
    "        with open(\"movie_data.csv\", \"w\", encoding=\"utf-8\", newline=\"\") as f:\n",
    "            writer = csv.writer(f)\n",
    "            writer.writerow([\"id\", \"original_title\", \"genres_id\", \"vote_average\"])\n",
    "            writer.writerows(all_movie)\n",
    "        print(\"Data berhasil disimpan ke movie_data.csv!\")\n",
    "    else:\n",
    "        print(\"Tidak ada data yang disimpan.\")\n",
    "\n",
    "fetch_movie_data_csv()\n"
   ]
  },
  {
   "cell_type": "markdown",
   "metadata": {},
   "source": [
    "## Import Dataset"
   ]
  },
  {
   "cell_type": "code",
   "execution_count": 10,
   "metadata": {},
   "outputs": [],
   "source": [
    "import pandas as pd\n",
    "df = pd.read_csv(\"movie_data.csv\")"
   ]
  },
  {
   "cell_type": "code",
   "execution_count": 11,
   "metadata": {},
   "outputs": [
    {
     "data": {
      "text/html": [
       "<div>\n",
       "<style scoped>\n",
       "    .dataframe tbody tr th:only-of-type {\n",
       "        vertical-align: middle;\n",
       "    }\n",
       "\n",
       "    .dataframe tbody tr th {\n",
       "        vertical-align: top;\n",
       "    }\n",
       "\n",
       "    .dataframe thead th {\n",
       "        text-align: right;\n",
       "    }\n",
       "</style>\n",
       "<table border=\"1\" class=\"dataframe\">\n",
       "  <thead>\n",
       "    <tr style=\"text-align: right;\">\n",
       "      <th></th>\n",
       "      <th>id</th>\n",
       "      <th>original_title</th>\n",
       "      <th>genres_id</th>\n",
       "      <th>vote_average</th>\n",
       "    </tr>\n",
       "  </thead>\n",
       "  <tbody>\n",
       "    <tr>\n",
       "      <th>0</th>\n",
       "      <td>1125899</td>\n",
       "      <td>Cleaner</td>\n",
       "      <td>28, 53</td>\n",
       "      <td>6.750</td>\n",
       "    </tr>\n",
       "    <tr>\n",
       "      <th>1</th>\n",
       "      <td>1229730</td>\n",
       "      <td>Carjackers</td>\n",
       "      <td>28, 12</td>\n",
       "      <td>7.026</td>\n",
       "    </tr>\n",
       "    <tr>\n",
       "      <th>2</th>\n",
       "      <td>822119</td>\n",
       "      <td>Captain America: Brave New World</td>\n",
       "      <td>28, 53, 878</td>\n",
       "      <td>6.119</td>\n",
       "    </tr>\n",
       "    <tr>\n",
       "      <th>3</th>\n",
       "      <td>1261050</td>\n",
       "      <td>De lydløse</td>\n",
       "      <td>28, 18</td>\n",
       "      <td>6.200</td>\n",
       "    </tr>\n",
       "    <tr>\n",
       "      <th>4</th>\n",
       "      <td>1197306</td>\n",
       "      <td>A Working Man</td>\n",
       "      <td>28, 80, 53</td>\n",
       "      <td>6.900</td>\n",
       "    </tr>\n",
       "    <tr>\n",
       "      <th>...</th>\n",
       "      <td>...</td>\n",
       "      <td>...</td>\n",
       "      <td>...</td>\n",
       "      <td>...</td>\n",
       "    </tr>\n",
       "    <tr>\n",
       "      <th>9993</th>\n",
       "      <td>11712</td>\n",
       "      <td>椿三十郎</td>\n",
       "      <td>18, 28, 35</td>\n",
       "      <td>7.900</td>\n",
       "    </tr>\n",
       "    <tr>\n",
       "      <th>9994</th>\n",
       "      <td>763164</td>\n",
       "      <td>Apex</td>\n",
       "      <td>28, 53, 878</td>\n",
       "      <td>5.200</td>\n",
       "    </tr>\n",
       "    <tr>\n",
       "      <th>9995</th>\n",
       "      <td>14177</td>\n",
       "      <td>Beauty Shop</td>\n",
       "      <td>35, 10749</td>\n",
       "      <td>6.300</td>\n",
       "    </tr>\n",
       "    <tr>\n",
       "      <th>9996</th>\n",
       "      <td>9396</td>\n",
       "      <td>Crocodile Dundee II</td>\n",
       "      <td>12, 35</td>\n",
       "      <td>5.835</td>\n",
       "    </tr>\n",
       "    <tr>\n",
       "      <th>9997</th>\n",
       "      <td>805327</td>\n",
       "      <td>Look Both Ways</td>\n",
       "      <td>10749, 18, 35</td>\n",
       "      <td>6.894</td>\n",
       "    </tr>\n",
       "  </tbody>\n",
       "</table>\n",
       "<p>9998 rows × 4 columns</p>\n",
       "</div>"
      ],
      "text/plain": [
       "           id                    original_title      genres_id  vote_average\n",
       "0     1125899                           Cleaner         28, 53         6.750\n",
       "1     1229730                        Carjackers         28, 12         7.026\n",
       "2      822119  Captain America: Brave New World    28, 53, 878         6.119\n",
       "3     1261050                        De lydløse         28, 18         6.200\n",
       "4     1197306                     A Working Man     28, 80, 53         6.900\n",
       "...       ...                               ...            ...           ...\n",
       "9993    11712                              椿三十郎     18, 28, 35         7.900\n",
       "9994   763164                              Apex    28, 53, 878         5.200\n",
       "9995    14177                       Beauty Shop      35, 10749         6.300\n",
       "9996     9396               Crocodile Dundee II         12, 35         5.835\n",
       "9997   805327                    Look Both Ways  10749, 18, 35         6.894\n",
       "\n",
       "[9998 rows x 4 columns]"
      ]
     },
     "execution_count": 11,
     "metadata": {},
     "output_type": "execute_result"
    }
   ],
   "source": [
    "df"
   ]
  },
  {
   "cell_type": "code",
   "execution_count": 13,
   "metadata": {},
   "outputs": [],
   "source": [
    "data = df.copy()"
   ]
  },
  {
   "cell_type": "markdown",
   "metadata": {},
   "source": [
    "## Preprocessing Data"
   ]
  },
  {
   "cell_type": "code",
   "execution_count": 14,
   "metadata": {},
   "outputs": [
    {
     "name": "stdout",
     "output_type": "stream",
     "text": [
      "Shape of The Anime Dataset : (9998, 4)\n",
      "\n",
      "Glimpse of The Dataset :\n"
     ]
    },
    {
     "data": {
      "text/html": [
       "<style type=\"text/css\">\n",
       "</style>\n",
       "<table id=\"T_71cdb\">\n",
       "  <thead>\n",
       "    <tr>\n",
       "      <th class=\"blank level0\" >&nbsp;</th>\n",
       "      <th id=\"T_71cdb_level0_col0\" class=\"col_heading level0 col0\" >id</th>\n",
       "      <th id=\"T_71cdb_level0_col1\" class=\"col_heading level0 col1\" >original_title</th>\n",
       "      <th id=\"T_71cdb_level0_col2\" class=\"col_heading level0 col2\" >genres_id</th>\n",
       "      <th id=\"T_71cdb_level0_col3\" class=\"col_heading level0 col3\" >vote_average</th>\n",
       "    </tr>\n",
       "  </thead>\n",
       "  <tbody>\n",
       "    <tr>\n",
       "      <th id=\"T_71cdb_level0_row0\" class=\"row_heading level0 row0\" >0</th>\n",
       "      <td id=\"T_71cdb_row0_col0\" class=\"data row0 col0\" >1125899</td>\n",
       "      <td id=\"T_71cdb_row0_col1\" class=\"data row0 col1\" >Cleaner</td>\n",
       "      <td id=\"T_71cdb_row0_col2\" class=\"data row0 col2\" >28, 53</td>\n",
       "      <td id=\"T_71cdb_row0_col3\" class=\"data row0 col3\" >6.750000</td>\n",
       "    </tr>\n",
       "    <tr>\n",
       "      <th id=\"T_71cdb_level0_row1\" class=\"row_heading level0 row1\" >1</th>\n",
       "      <td id=\"T_71cdb_row1_col0\" class=\"data row1 col0\" >1229730</td>\n",
       "      <td id=\"T_71cdb_row1_col1\" class=\"data row1 col1\" >Carjackers</td>\n",
       "      <td id=\"T_71cdb_row1_col2\" class=\"data row1 col2\" >28, 12</td>\n",
       "      <td id=\"T_71cdb_row1_col3\" class=\"data row1 col3\" >7.026000</td>\n",
       "    </tr>\n",
       "    <tr>\n",
       "      <th id=\"T_71cdb_level0_row2\" class=\"row_heading level0 row2\" >2</th>\n",
       "      <td id=\"T_71cdb_row2_col0\" class=\"data row2 col0\" >822119</td>\n",
       "      <td id=\"T_71cdb_row2_col1\" class=\"data row2 col1\" >Captain America: Brave New World</td>\n",
       "      <td id=\"T_71cdb_row2_col2\" class=\"data row2 col2\" >28, 53, 878</td>\n",
       "      <td id=\"T_71cdb_row2_col3\" class=\"data row2 col3\" >6.119000</td>\n",
       "    </tr>\n",
       "    <tr>\n",
       "      <th id=\"T_71cdb_level0_row3\" class=\"row_heading level0 row3\" >3</th>\n",
       "      <td id=\"T_71cdb_row3_col0\" class=\"data row3 col0\" >1261050</td>\n",
       "      <td id=\"T_71cdb_row3_col1\" class=\"data row3 col1\" >De lydløse</td>\n",
       "      <td id=\"T_71cdb_row3_col2\" class=\"data row3 col2\" >28, 18</td>\n",
       "      <td id=\"T_71cdb_row3_col3\" class=\"data row3 col3\" >6.200000</td>\n",
       "    </tr>\n",
       "    <tr>\n",
       "      <th id=\"T_71cdb_level0_row4\" class=\"row_heading level0 row4\" >4</th>\n",
       "      <td id=\"T_71cdb_row4_col0\" class=\"data row4 col0\" >1197306</td>\n",
       "      <td id=\"T_71cdb_row4_col1\" class=\"data row4 col1\" >A Working Man</td>\n",
       "      <td id=\"T_71cdb_row4_col2\" class=\"data row4 col2\" >28, 80, 53</td>\n",
       "      <td id=\"T_71cdb_row4_col3\" class=\"data row4 col3\" >6.900000</td>\n",
       "    </tr>\n",
       "  </tbody>\n",
       "</table>\n"
      ],
      "text/plain": [
       "<pandas.io.formats.style.Styler at 0x246bd967fd0>"
      ]
     },
     "execution_count": 14,
     "metadata": {},
     "output_type": "execute_result"
    }
   ],
   "source": [
    "print(f\"Shape of The Anime Dataset : {df.shape}\")\n",
    "print(f\"\\nGlimpse of The Dataset :\")\n",
    "df.head().style.set_properties()"
   ]
  },
  {
   "cell_type": "code",
   "execution_count": 15,
   "metadata": {},
   "outputs": [
    {
     "name": "stdout",
     "output_type": "stream",
     "text": [
      "Informations About Anime Dataset :\n",
      "\n",
      "<class 'pandas.core.frame.DataFrame'>\n",
      "RangeIndex: 9998 entries, 0 to 9997\n",
      "Data columns (total 4 columns):\n",
      " #   Column          Non-Null Count  Dtype  \n",
      "---  ------          --------------  -----  \n",
      " 0   id              9998 non-null   int64  \n",
      " 1   original_title  9998 non-null   object \n",
      " 2   genres_id       9915 non-null   object \n",
      " 3   vote_average    9998 non-null   float64\n",
      "dtypes: float64(1), int64(1), object(2)\n",
      "memory usage: 312.6+ KB\n",
      "None\n"
     ]
    }
   ],
   "source": [
    "print(f\"Informations About Anime Dataset :\\n\")\n",
    "print(df.info())"
   ]
  },
  {
   "cell_type": "code",
   "execution_count": 16,
   "metadata": {},
   "outputs": [
    {
     "name": "stdout",
     "output_type": "stream",
     "text": [
      "Summary of The Anime Dataset :\n"
     ]
    },
    {
     "data": {
      "text/html": [
       "<style type=\"text/css\">\n",
       "</style>\n",
       "<table id=\"T_cfc69\">\n",
       "  <thead>\n",
       "    <tr>\n",
       "      <th class=\"blank level0\" >&nbsp;</th>\n",
       "      <th id=\"T_cfc69_level0_col0\" class=\"col_heading level0 col0\" >count</th>\n",
       "      <th id=\"T_cfc69_level0_col1\" class=\"col_heading level0 col1\" >mean</th>\n",
       "      <th id=\"T_cfc69_level0_col2\" class=\"col_heading level0 col2\" >std</th>\n",
       "      <th id=\"T_cfc69_level0_col3\" class=\"col_heading level0 col3\" >min</th>\n",
       "      <th id=\"T_cfc69_level0_col4\" class=\"col_heading level0 col4\" >25%</th>\n",
       "      <th id=\"T_cfc69_level0_col5\" class=\"col_heading level0 col5\" >50%</th>\n",
       "      <th id=\"T_cfc69_level0_col6\" class=\"col_heading level0 col6\" >75%</th>\n",
       "      <th id=\"T_cfc69_level0_col7\" class=\"col_heading level0 col7\" >max</th>\n",
       "    </tr>\n",
       "  </thead>\n",
       "  <tbody>\n",
       "    <tr>\n",
       "      <th id=\"T_cfc69_level0_row0\" class=\"row_heading level0 row0\" >id</th>\n",
       "      <td id=\"T_cfc69_row0_col0\" class=\"data row0 col0\" >9998.000000</td>\n",
       "      <td id=\"T_cfc69_row0_col1\" class=\"data row0 col1\" >394361.177536</td>\n",
       "      <td id=\"T_cfc69_row0_col2\" class=\"data row0 col2\" >427810.228680</td>\n",
       "      <td id=\"T_cfc69_row0_col3\" class=\"data row0 col3\" >5.000000</td>\n",
       "      <td id=\"T_cfc69_row0_col4\" class=\"data row0 col4\" >14306.000000</td>\n",
       "      <td id=\"T_cfc69_row0_col5\" class=\"data row0 col5\" >243939.000000</td>\n",
       "      <td id=\"T_cfc69_row0_col6\" class=\"data row0 col6\" >687259.000000</td>\n",
       "      <td id=\"T_cfc69_row0_col7\" class=\"data row0 col7\" >1454308.000000</td>\n",
       "    </tr>\n",
       "    <tr>\n",
       "      <th id=\"T_cfc69_level0_row1\" class=\"row_heading level0 row1\" >vote_average</th>\n",
       "      <td id=\"T_cfc69_row1_col0\" class=\"data row1 col0\" >9998.000000</td>\n",
       "      <td id=\"T_cfc69_row1_col1\" class=\"data row1 col1\" >6.222385</td>\n",
       "      <td id=\"T_cfc69_row1_col2\" class=\"data row1 col2\" >1.564017</td>\n",
       "      <td id=\"T_cfc69_row1_col3\" class=\"data row1 col3\" >0.000000</td>\n",
       "      <td id=\"T_cfc69_row1_col4\" class=\"data row1 col4\" >5.800000</td>\n",
       "      <td id=\"T_cfc69_row1_col5\" class=\"data row1 col5\" >6.500000</td>\n",
       "      <td id=\"T_cfc69_row1_col6\" class=\"data row1 col6\" >7.113750</td>\n",
       "      <td id=\"T_cfc69_row1_col7\" class=\"data row1 col7\" >10.000000</td>\n",
       "    </tr>\n",
       "  </tbody>\n",
       "</table>\n"
      ],
      "text/plain": [
       "<pandas.io.formats.style.Styler at 0x246bd357a10>"
      ]
     },
     "execution_count": 16,
     "metadata": {},
     "output_type": "execute_result"
    }
   ],
   "source": [
    "print(f\"Summary of The Anime Dataset :\")\n",
    "df.describe().T.style.set_properties()"
   ]
  },
  {
   "cell_type": "code",
   "execution_count": 17,
   "metadata": {},
   "outputs": [
    {
     "data": {
      "text/html": [
       "<style type=\"text/css\">\n",
       "</style>\n",
       "<table id=\"T_d2f86\">\n",
       "  <thead>\n",
       "    <tr>\n",
       "      <th class=\"blank level0\" >&nbsp;</th>\n",
       "      <th id=\"T_d2f86_level0_col0\" class=\"col_heading level0 col0\" >count</th>\n",
       "      <th id=\"T_d2f86_level0_col1\" class=\"col_heading level0 col1\" >unique</th>\n",
       "      <th id=\"T_d2f86_level0_col2\" class=\"col_heading level0 col2\" >top</th>\n",
       "      <th id=\"T_d2f86_level0_col3\" class=\"col_heading level0 col3\" >freq</th>\n",
       "    </tr>\n",
       "  </thead>\n",
       "  <tbody>\n",
       "    <tr>\n",
       "      <th id=\"T_d2f86_level0_row0\" class=\"row_heading level0 row0\" >original_title</th>\n",
       "      <td id=\"T_d2f86_row0_col0\" class=\"data row0 col0\" >9998</td>\n",
       "      <td id=\"T_d2f86_row0_col1\" class=\"data row0 col1\" >8139</td>\n",
       "      <td id=\"T_d2f86_row0_col2\" class=\"data row0 col2\" >Tabu</td>\n",
       "      <td id=\"T_d2f86_row0_col3\" class=\"data row0 col3\" >6</td>\n",
       "    </tr>\n",
       "    <tr>\n",
       "      <th id=\"T_d2f86_level0_row1\" class=\"row_heading level0 row1\" >genres_id</th>\n",
       "      <td id=\"T_d2f86_row1_col0\" class=\"data row1 col0\" >9915</td>\n",
       "      <td id=\"T_d2f86_row1_col1\" class=\"data row1 col1\" >1912</td>\n",
       "      <td id=\"T_d2f86_row1_col2\" class=\"data row1 col2\" >18</td>\n",
       "      <td id=\"T_d2f86_row1_col3\" class=\"data row1 col3\" >672</td>\n",
       "    </tr>\n",
       "  </tbody>\n",
       "</table>\n"
      ],
      "text/plain": [
       "<pandas.io.formats.style.Styler at 0x246be1e49d0>"
      ]
     },
     "execution_count": 17,
     "metadata": {},
     "output_type": "execute_result"
    }
   ],
   "source": [
    "df.describe(include=object).T.style.set_properties()"
   ]
  },
  {
   "cell_type": "code",
   "execution_count": 18,
   "metadata": {},
   "outputs": [
    {
     "name": "stdout",
     "output_type": "stream",
     "text": [
      "Null Values of Anime Dataset :\n"
     ]
    },
    {
     "data": {
      "text/html": [
       "<style type=\"text/css\">\n",
       "</style>\n",
       "<table id=\"T_f1092\">\n",
       "  <thead>\n",
       "    <tr>\n",
       "      <th class=\"blank level0\" >&nbsp;</th>\n",
       "      <th id=\"T_f1092_level0_col0\" class=\"col_heading level0 col0\" >id</th>\n",
       "      <th id=\"T_f1092_level0_col1\" class=\"col_heading level0 col1\" >original_title</th>\n",
       "      <th id=\"T_f1092_level0_col2\" class=\"col_heading level0 col2\" >genres_id</th>\n",
       "      <th id=\"T_f1092_level0_col3\" class=\"col_heading level0 col3\" >vote_average</th>\n",
       "    </tr>\n",
       "  </thead>\n",
       "  <tbody>\n",
       "    <tr>\n",
       "      <th id=\"T_f1092_level0_row0\" class=\"row_heading level0 row0\" >0</th>\n",
       "      <td id=\"T_f1092_row0_col0\" class=\"data row0 col0\" >0</td>\n",
       "      <td id=\"T_f1092_row0_col1\" class=\"data row0 col1\" >0</td>\n",
       "      <td id=\"T_f1092_row0_col2\" class=\"data row0 col2\" >83</td>\n",
       "      <td id=\"T_f1092_row0_col3\" class=\"data row0 col3\" >0</td>\n",
       "    </tr>\n",
       "  </tbody>\n",
       "</table>\n"
      ],
      "text/plain": [
       "<pandas.io.formats.style.Styler at 0x246be1f4f50>"
      ]
     },
     "execution_count": 18,
     "metadata": {},
     "output_type": "execute_result"
    }
   ],
   "source": [
    "print(\"Null Values of Anime Dataset :\")\n",
    "df.isna().sum().to_frame().T.style.set_properties()"
   ]
  },
  {
   "cell_type": "code",
   "execution_count": 19,
   "metadata": {},
   "outputs": [
    {
     "name": "stdout",
     "output_type": "stream",
     "text": [
      "After Dropping, Null Values of Anime Dataset :\n"
     ]
    },
    {
     "data": {
      "text/html": [
       "<style type=\"text/css\">\n",
       "</style>\n",
       "<table id=\"T_b7a29\">\n",
       "  <thead>\n",
       "    <tr>\n",
       "      <th class=\"blank level0\" >&nbsp;</th>\n",
       "      <th id=\"T_b7a29_level0_col0\" class=\"col_heading level0 col0\" >id</th>\n",
       "      <th id=\"T_b7a29_level0_col1\" class=\"col_heading level0 col1\" >original_title</th>\n",
       "      <th id=\"T_b7a29_level0_col2\" class=\"col_heading level0 col2\" >genres_id</th>\n",
       "      <th id=\"T_b7a29_level0_col3\" class=\"col_heading level0 col3\" >vote_average</th>\n",
       "    </tr>\n",
       "  </thead>\n",
       "  <tbody>\n",
       "    <tr>\n",
       "      <th id=\"T_b7a29_level0_row0\" class=\"row_heading level0 row0\" >0</th>\n",
       "      <td id=\"T_b7a29_row0_col0\" class=\"data row0 col0\" >0</td>\n",
       "      <td id=\"T_b7a29_row0_col1\" class=\"data row0 col1\" >0</td>\n",
       "      <td id=\"T_b7a29_row0_col2\" class=\"data row0 col2\" >0</td>\n",
       "      <td id=\"T_b7a29_row0_col3\" class=\"data row0 col3\" >0</td>\n",
       "    </tr>\n",
       "  </tbody>\n",
       "</table>\n"
      ],
      "text/plain": [
       "<pandas.io.formats.style.Styler at 0x246bde17110>"
      ]
     },
     "execution_count": 19,
     "metadata": {},
     "output_type": "execute_result"
    }
   ],
   "source": [
    "print(\"After Dropping, Null Values of Anime Dataset :\")\n",
    "df.dropna(axis = 0, inplace = True)\n",
    "df.isna().sum().to_frame().T.style.set_properties()"
   ]
  },
  {
   "cell_type": "code",
   "execution_count": 20,
   "metadata": {},
   "outputs": [
    {
     "ename": "KeyError",
     "evalue": "'score'",
     "output_type": "error",
     "traceback": [
      "\u001b[1;31m---------------------------------------------------------------------------\u001b[0m",
      "\u001b[1;31mKeyError\u001b[0m                                  Traceback (most recent call last)",
      "File \u001b[1;32mc:\\Users\\isaia\\anaconda3\\envs\\python311\\Lib\\site-packages\\pandas\\core\\indexes\\base.py:3805\u001b[0m, in \u001b[0;36mIndex.get_loc\u001b[1;34m(self, key)\u001b[0m\n\u001b[0;32m   3804\u001b[0m \u001b[38;5;28;01mtry\u001b[39;00m:\n\u001b[1;32m-> 3805\u001b[0m     \u001b[38;5;28;01mreturn\u001b[39;00m \u001b[38;5;28;43mself\u001b[39;49m\u001b[38;5;241;43m.\u001b[39;49m\u001b[43m_engine\u001b[49m\u001b[38;5;241;43m.\u001b[39;49m\u001b[43mget_loc\u001b[49m\u001b[43m(\u001b[49m\u001b[43mcasted_key\u001b[49m\u001b[43m)\u001b[49m\n\u001b[0;32m   3806\u001b[0m \u001b[38;5;28;01mexcept\u001b[39;00m \u001b[38;5;167;01mKeyError\u001b[39;00m \u001b[38;5;28;01mas\u001b[39;00m err:\n",
      "File \u001b[1;32mindex.pyx:167\u001b[0m, in \u001b[0;36mpandas._libs.index.IndexEngine.get_loc\u001b[1;34m()\u001b[0m\n",
      "File \u001b[1;32mindex.pyx:196\u001b[0m, in \u001b[0;36mpandas._libs.index.IndexEngine.get_loc\u001b[1;34m()\u001b[0m\n",
      "File \u001b[1;32mpandas\\\\_libs\\\\hashtable_class_helper.pxi:7081\u001b[0m, in \u001b[0;36mpandas._libs.hashtable.PyObjectHashTable.get_item\u001b[1;34m()\u001b[0m\n",
      "File \u001b[1;32mpandas\\\\_libs\\\\hashtable_class_helper.pxi:7089\u001b[0m, in \u001b[0;36mpandas._libs.hashtable.PyObjectHashTable.get_item\u001b[1;34m()\u001b[0m\n",
      "\u001b[1;31mKeyError\u001b[0m: 'score'",
      "\nThe above exception was the direct cause of the following exception:\n",
      "\u001b[1;31mKeyError\u001b[0m                                  Traceback (most recent call last)",
      "Cell \u001b[1;32mIn[20], line 4\u001b[0m\n\u001b[0;32m      1\u001b[0m \u001b[38;5;28;01mimport\u001b[39;00m \u001b[38;5;21;01mnumpy\u001b[39;00m \u001b[38;5;28;01mas\u001b[39;00m \u001b[38;5;21;01mnp\u001b[39;00m\n\u001b[1;32m----> 4\u001b[0m \u001b[43mdata\u001b[49m\u001b[43m[\u001b[49m\u001b[38;5;124;43m\"\u001b[39;49m\u001b[38;5;124;43mscore\u001b[39;49m\u001b[38;5;124;43m\"\u001b[39;49m\u001b[43m]\u001b[49m\u001b[38;5;241m.\u001b[39mreplace(to_replace\u001b[38;5;241m=\u001b[39m\u001b[38;5;241m-\u001b[39m\u001b[38;5;241m1\u001b[39m, value\u001b[38;5;241m=\u001b[39mnp\u001b[38;5;241m.\u001b[39mnan, inplace\u001b[38;5;241m=\u001b[39m\u001b[38;5;28;01mTrue\u001b[39;00m)\n\u001b[0;32m      5\u001b[0m data\u001b[38;5;241m.\u001b[39mdropna(subset\u001b[38;5;241m=\u001b[39m[\u001b[38;5;124m\"\u001b[39m\u001b[38;5;124mscore\u001b[39m\u001b[38;5;124m\"\u001b[39m], inplace\u001b[38;5;241m=\u001b[39m\u001b[38;5;28;01mTrue\u001b[39;00m)\n",
      "File \u001b[1;32mc:\\Users\\isaia\\anaconda3\\envs\\python311\\Lib\\site-packages\\pandas\\core\\frame.py:4102\u001b[0m, in \u001b[0;36mDataFrame.__getitem__\u001b[1;34m(self, key)\u001b[0m\n\u001b[0;32m   4100\u001b[0m \u001b[38;5;28;01mif\u001b[39;00m \u001b[38;5;28mself\u001b[39m\u001b[38;5;241m.\u001b[39mcolumns\u001b[38;5;241m.\u001b[39mnlevels \u001b[38;5;241m>\u001b[39m \u001b[38;5;241m1\u001b[39m:\n\u001b[0;32m   4101\u001b[0m     \u001b[38;5;28;01mreturn\u001b[39;00m \u001b[38;5;28mself\u001b[39m\u001b[38;5;241m.\u001b[39m_getitem_multilevel(key)\n\u001b[1;32m-> 4102\u001b[0m indexer \u001b[38;5;241m=\u001b[39m \u001b[38;5;28;43mself\u001b[39;49m\u001b[38;5;241;43m.\u001b[39;49m\u001b[43mcolumns\u001b[49m\u001b[38;5;241;43m.\u001b[39;49m\u001b[43mget_loc\u001b[49m\u001b[43m(\u001b[49m\u001b[43mkey\u001b[49m\u001b[43m)\u001b[49m\n\u001b[0;32m   4103\u001b[0m \u001b[38;5;28;01mif\u001b[39;00m is_integer(indexer):\n\u001b[0;32m   4104\u001b[0m     indexer \u001b[38;5;241m=\u001b[39m [indexer]\n",
      "File \u001b[1;32mc:\\Users\\isaia\\anaconda3\\envs\\python311\\Lib\\site-packages\\pandas\\core\\indexes\\base.py:3812\u001b[0m, in \u001b[0;36mIndex.get_loc\u001b[1;34m(self, key)\u001b[0m\n\u001b[0;32m   3807\u001b[0m     \u001b[38;5;28;01mif\u001b[39;00m \u001b[38;5;28misinstance\u001b[39m(casted_key, \u001b[38;5;28mslice\u001b[39m) \u001b[38;5;129;01mor\u001b[39;00m (\n\u001b[0;32m   3808\u001b[0m         \u001b[38;5;28misinstance\u001b[39m(casted_key, abc\u001b[38;5;241m.\u001b[39mIterable)\n\u001b[0;32m   3809\u001b[0m         \u001b[38;5;129;01mand\u001b[39;00m \u001b[38;5;28many\u001b[39m(\u001b[38;5;28misinstance\u001b[39m(x, \u001b[38;5;28mslice\u001b[39m) \u001b[38;5;28;01mfor\u001b[39;00m x \u001b[38;5;129;01min\u001b[39;00m casted_key)\n\u001b[0;32m   3810\u001b[0m     ):\n\u001b[0;32m   3811\u001b[0m         \u001b[38;5;28;01mraise\u001b[39;00m InvalidIndexError(key)\n\u001b[1;32m-> 3812\u001b[0m     \u001b[38;5;28;01mraise\u001b[39;00m \u001b[38;5;167;01mKeyError\u001b[39;00m(key) \u001b[38;5;28;01mfrom\u001b[39;00m \u001b[38;5;21;01merr\u001b[39;00m\n\u001b[0;32m   3813\u001b[0m \u001b[38;5;28;01mexcept\u001b[39;00m \u001b[38;5;167;01mTypeError\u001b[39;00m:\n\u001b[0;32m   3814\u001b[0m     \u001b[38;5;66;03m# If we have a listlike key, _check_indexing_error will raise\u001b[39;00m\n\u001b[0;32m   3815\u001b[0m     \u001b[38;5;66;03m#  InvalidIndexError. Otherwise we fall through and re-raise\u001b[39;00m\n\u001b[0;32m   3816\u001b[0m     \u001b[38;5;66;03m#  the TypeError.\u001b[39;00m\n\u001b[0;32m   3817\u001b[0m     \u001b[38;5;28mself\u001b[39m\u001b[38;5;241m.\u001b[39m_check_indexing_error(key)\n",
      "\u001b[1;31mKeyError\u001b[0m: 'score'"
     ]
    }
   ],
   "source": [
    "import numpy as np\n",
    "\n",
    "\n",
    "data[\"score\"].replace(to_replace=-1, value=np.nan, inplace=True)\n",
    "data.dropna(subset=[\"score\"], inplace=True)"
   ]
  },
  {
   "cell_type": "markdown",
   "metadata": {},
   "source": [
    "## Modelling\n"
   ]
  },
  {
   "cell_type": "code",
   "execution_count": null,
   "metadata": {},
   "outputs": [],
   "source": [
    "# %% Imports and Initial Setup\n",
    "import pandas as pd\n",
    "import numpy as np\n",
    "from scipy.sparse import csr_matrix\n",
    "from sklearn.neighbors import NearestNeighbors\n",
    "from sklearn.feature_extraction.text import TfidfVectorizer\n",
    "from sklearn.metrics.pairwise import sigmoid_kernel\n",
    "import re\n",
    "from rapidfuzz import process, fuzz\n",
    "import io"
   ]
  },
  {
   "cell_type": "code",
   "execution_count": null,
   "metadata": {},
   "outputs": [],
   "source": [
    "def text_cleaning(text):\n",
    "    text = re.sub(r'&quot;', '', text)\n",
    "    text = re.sub(r'.hack//', '', text)\n",
    "    text = re.sub(r'&#039;', '', text)\n",
    "    text = re.sub(r'A&#039;s', '', text)\n",
    "    text = re.sub(r'I&#039;', 'I\\'', text)\n",
    "    text = re.sub(r'&amp;', 'and', text)\n",
    "    return text\n",
    "\n",
    "data[\"title\"] = data[\"title\"].apply(text_cleaning)"
   ]
  },
  {
   "cell_type": "code",
   "execution_count": null,
   "metadata": {},
   "outputs": [
    {
     "name": "stdout",
     "output_type": "stream",
     "text": [
      "    mal_id                                      title  \\\n",
      "1        5            Cowboy Bebop: Tengoku no Tobira   \n",
      "60      81     Kidou Senshi Gundam: Dai 08 MS Shoutai   \n",
      "76      97                                 Last Exile   \n",
      "71      92                   Kidou Shinseiki Gundam X   \n",
      "49      68                                  Black Cat   \n",
      "63      84  Kidou Senshi Gundam 0083: Stardust Memory   \n",
      "35      54                          Appleseed (Movie)   \n",
      "90     111                              Corrector Yui   \n",
      "88     109                           Bakuretsu Tenshi   \n",
      "37      56                                    Avenger   \n",
      "\n",
      "                                       genres  score  members   type  episodes  \n",
      "1                              Action, Sci-Fi   8.38   393783  Movie       1.0  \n",
      "60  Action, Adventure, Drama, Romance, Sci-Fi   8.00    88768    OVA      12.0  \n",
      "76                  Action, Adventure, Sci-Fi   7.78   180477     TV      26.0  \n",
      "71           Action, Adventure, Drama, Sci-Fi   7.33    38498     TV      39.0  \n",
      "49                  Action, Adventure, Sci-Fi   7.31   276836     TV      23.0  \n",
      "63  Action, Adventure, Drama, Romance, Sci-Fi   7.22    48361    OVA      13.0  \n",
      "35                             Action, Sci-Fi   7.05    76103  Movie       1.0  \n",
      "90                  Adventure, Comedy, Sci-Fi   6.86    18197     TV      52.0  \n",
      "88                  Action, Adventure, Sci-Fi   6.77    73665     TV      24.0  \n",
      "37                 Adventure, Fantasy, Sci-Fi   5.85    18651     TV      13.0  \n"
     ]
    }
   ],
   "source": [
    "from sklearn.feature_extraction.text import TfidfVectorizer\n",
    "from sklearn.metrics.pairwise import cosine_similarity\n",
    "\n",
    "# TF-IDF Vectorizer untuk genre\n",
    "tfidf = TfidfVectorizer()\n",
    "tfidf_matrix = tfidf.fit_transform(df['genres'].fillna(''))\n",
    "\n",
    "# Hitung Cosine Similarity\n",
    "cosine_sim = cosine_similarity(tfidf_matrix, tfidf_matrix)\n",
    "\n",
    "# Fungsi rekomendasi berdasarkan genre\n",
    "def recommend_anime(title, top_n=10):\n",
    "    if title not in df['title'].values:\n",
    "        return f\"Title '{title}' not found in the dataset.\"\n",
    "    \n",
    "    index = df[df['title'] == title].index[0]\n",
    "    sim_scores = list(enumerate(cosine_sim[index]))\n",
    "    sim_scores = sorted(sim_scores, key=lambda x: x[1], reverse=True)[1:top_n+1]\n",
    "    \n",
    "    anime_indices = [i[0] for i in sim_scores]\n",
    "    return df.iloc[anime_indices].sort_values(by='score', ascending=False)\n",
    "\n",
    "# Contoh rekomendasi\n",
    "print(recommend_anime(\"Trigun\"))"
   ]
  },
  {
   "cell_type": "code",
   "execution_count": null,
   "metadata": {},
   "outputs": [
    {
     "name": "stdout",
     "output_type": "stream",
     "text": [
      " * Serving Flask app '__main__'\n",
      " * Debug mode: on\n"
     ]
    },
    {
     "name": "stderr",
     "output_type": "stream",
     "text": [
      "WARNING: This is a development server. Do not use it in a production deployment. Use a production WSGI server instead.\n",
      " * Running on http://127.0.0.1:5000\n",
      "Press CTRL+C to quit\n",
      " * Restarting with watchdog (windowsapi)\n"
     ]
    },
    {
     "ename": "SystemExit",
     "evalue": "1",
     "output_type": "error",
     "traceback": [
      "An exception has occurred, use %tb to see the full traceback.\n",
      "\u001b[1;31mSystemExit\u001b[0m\u001b[1;31m:\u001b[0m 1\n"
     ]
    },
    {
     "name": "stderr",
     "output_type": "stream",
     "text": [
      "C:\\Users\\isaia\\AppData\\Roaming\\Python\\Python311\\site-packages\\IPython\\core\\interactiveshell.py:3585: UserWarning: To exit: use 'exit', 'quit', or Ctrl-D.\n",
      "  warn(\"To exit: use 'exit', 'quit', or Ctrl-D.\", stacklevel=1)\n"
     ]
    }
   ],
   "source": [
    "from flask import Flask, request, jsonify\n",
    "app = Flask(__name__)\n",
    "\n",
    "@app.route('/recommend', methods=['GET'])\n",
    "def recommend():\n",
    "    title = request.args.get('title')\n",
    "    if not title:\n",
    "        return jsonify({\"error\": \"Masukkan parameter title\"}), 400\n",
    "\n",
    "    recommendations = recommend_anime(title)\n",
    "    if not recommendations:\n",
    "        return jsonify({\"error\": \"Anime tidak ditemukan\"}), 404\n",
    "\n",
    "    return jsonify(recommendations)\n",
    "\n",
    "if __name__ == '__main__':\n",
    "    app.run(debug=True)"
   ]
  }
 ],
 "metadata": {
  "kernelspec": {
   "display_name": "python311",
   "language": "python",
   "name": "python3"
  },
  "language_info": {
   "codemirror_mode": {
    "name": "ipython",
    "version": 3
   },
   "file_extension": ".py",
   "mimetype": "text/x-python",
   "name": "python",
   "nbconvert_exporter": "python",
   "pygments_lexer": "ipython3",
   "version": "3.11.11"
  }
 },
 "nbformat": 4,
 "nbformat_minor": 2
}
